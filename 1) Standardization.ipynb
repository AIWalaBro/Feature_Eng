{
 "cells": [
  {
   "cell_type": "code",
   "execution_count": null,
   "id": "a1627cfc",
   "metadata": {},
   "outputs": [],
   "source": [
    "# stanardization model create krne ke phle use kiya krte hai one of the easiest techniques hai.\n"
   ]
  },
  {
   "cell_type": "markdown",
   "id": "631056a4",
   "metadata": {},
   "source": [
    "# what is feeature scaling\n",
    "* fetaure scaling is techniques to standardize the independet features present in the data in afixed range"
   ]
  },
  {
   "cell_type": "code",
   "execution_count": null,
   "id": "454873ae",
   "metadata": {},
   "outputs": [],
   "source": []
  }
 ],
 "metadata": {
  "kernelspec": {
   "display_name": "Python 3 (ipykernel)",
   "language": "python",
   "name": "python3"
  },
  "language_info": {
   "codemirror_mode": {
    "name": "ipython",
    "version": 3
   },
   "file_extension": ".py",
   "mimetype": "text/x-python",
   "name": "python",
   "nbconvert_exporter": "python",
   "pygments_lexer": "ipython3",
   "version": "3.9.7"
  }
 },
 "nbformat": 4,
 "nbformat_minor": 5
}
