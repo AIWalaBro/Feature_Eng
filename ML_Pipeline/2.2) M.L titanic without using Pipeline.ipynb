{
 "cells": [
  {
   "cell_type": "code",
   "execution_count": 1,
   "id": "b9eda5f3",
   "metadata": {},
   "outputs": [],
   "source": [
    "import pickle"
   ]
  },
  {
   "cell_type": "code",
   "execution_count": 2,
   "id": "2961ce68",
   "metadata": {},
   "outputs": [],
   "source": [
    "import numpy as np"
   ]
  },
  {
   "cell_type": "code",
   "execution_count": 10,
   "id": "2667b8b3",
   "metadata": {},
   "outputs": [],
   "source": [
    "ohe_sex = pickle.load(open('models/sex_file.pkl','rb'))\n",
    "ohe_embarked = pickle.load(open('models/ohe_embarked.pkl','rb'))\n",
    "clf = pickle.load(open('models/clf.pkl','rb'))"
   ]
  },
  {
   "cell_type": "code",
   "execution_count": 5,
   "id": "ea6a69ec",
   "metadata": {},
   "outputs": [],
   "source": [
    "# lets assume user input\n",
    "# pclass/\n",
    "test_input = np.array([2,'male',31.0,0,0,10.5,'S'],dtype = object).reshape(1,7)"
   ]
  },
  {
   "cell_type": "code",
   "execution_count": 6,
   "id": "4ea2e48d",
   "metadata": {},
   "outputs": [
    {
     "data": {
      "text/plain": [
       "array([[2, 'male', 31.0, 0, 0, 10.5, 'S']], dtype=object)"
      ]
     },
     "execution_count": 6,
     "metadata": {},
     "output_type": "execute_result"
    }
   ],
   "source": [
    "test_input"
   ]
  },
  {
   "cell_type": "markdown",
   "id": "d514ff1a",
   "metadata": {},
   "source": [
    "# checking for ohe_sex"
   ]
  },
  {
   "cell_type": "code",
   "execution_count": 12,
   "id": "7519fd29",
   "metadata": {},
   "outputs": [
    {
     "name": "stderr",
     "output_type": "stream",
     "text": [
      "C:\\Users\\Asus\\AppData\\Roaming\\Python\\Python39\\site-packages\\sklearn\\base.py:450: UserWarning: X does not have valid feature names, but OneHotEncoder was fitted with feature names\n",
      "  warnings.warn(\n"
     ]
    }
   ],
   "source": [
    "test_input_sex = ohe_sex.transform(test_input[:,1].reshape(1,1))"
   ]
  },
  {
   "cell_type": "code",
   "execution_count": 13,
   "id": "3ff60b86",
   "metadata": {},
   "outputs": [
    {
     "data": {
      "text/plain": [
       "array([[0., 1.]])"
      ]
     },
     "execution_count": 13,
     "metadata": {},
     "output_type": "execute_result"
    }
   ],
   "source": [
    "test_input_sex"
   ]
  },
  {
   "cell_type": "markdown",
   "id": "c5160231",
   "metadata": {},
   "source": [
    "# ohe_embarked"
   ]
  },
  {
   "cell_type": "code",
   "execution_count": 15,
   "id": "51013982",
   "metadata": {},
   "outputs": [
    {
     "data": {
      "text/plain": [
       "array([[0., 0., 1.]])"
      ]
     },
     "execution_count": 15,
     "metadata": {},
     "output_type": "execute_result"
    }
   ],
   "source": [
    "test_input_emrbarked = ohe_embarked.transform(test_input[:,-1].reshape(1,1))\n",
    "test_input_emrbarked"
   ]
  },
  {
   "cell_type": "markdown",
   "id": "a138c302",
   "metadata": {},
   "source": [
    "# test_input_age"
   ]
  },
  {
   "cell_type": "code",
   "execution_count": 16,
   "id": "e7009742",
   "metadata": {},
   "outputs": [],
   "source": [
    "test`_input_age = test_input[:,2].reshape(1,1)"
   ]
  },
  {
   "cell_type": "markdown",
   "id": "86d671fe",
   "metadata": {},
   "source": [
    "# lets concatenate all the variables"
   ]
  },
  {
   "cell_type": "code",
   "execution_count": 19,
   "id": "b2242ef8",
   "metadata": {},
   "outputs": [],
   "source": [
    "test_input_transformed = np.concatenate((test_input[:,[0,3,4,5]],test_input_age,test_input_sex,test_input_emrbarked),axis = 1)"
   ]
  },
  {
   "cell_type": "code",
   "execution_count": 20,
   "id": "020e8265",
   "metadata": {},
   "outputs": [
    {
     "data": {
      "text/plain": [
       "array([[2, 0, 0, 10.5, 31.0, 0.0, 1.0, 0.0, 0.0, 1.0]], dtype=object)"
      ]
     },
     "execution_count": 20,
     "metadata": {},
     "output_type": "execute_result"
    }
   ],
   "source": [
    "test_input_transformed"
   ]
  },
  {
   "cell_type": "code",
   "execution_count": 21,
   "id": "084847a9",
   "metadata": {},
   "outputs": [
    {
     "data": {
      "text/plain": [
       "(1, 10)"
      ]
     },
     "execution_count": 21,
     "metadata": {},
     "output_type": "execute_result"
    }
   ],
   "source": [
    "test_input_transformed.shape"
   ]
  },
  {
   "cell_type": "code",
   "execution_count": 22,
   "id": "c4102f33",
   "metadata": {},
   "outputs": [
    {
     "data": {
      "text/plain": [
       "array([1], dtype=int64)"
      ]
     },
     "execution_count": 22,
     "metadata": {},
     "output_type": "execute_result"
    }
   ],
   "source": [
    "clf.predict(test_input_transformed)\n",
    "# bach jayega passenger"
   ]
  },
  {
   "cell_type": "markdown",
   "id": "0d087d10",
   "metadata": {},
   "source": [
    "# so dekha kitna hetic hai pura yeha production ka code hai tjoda sa bhi edhar udhar hua toh  sab gadbad ho jayega"
   ]
  },
  {
   "cell_type": "code",
   "execution_count": null,
   "id": "d59f18a5",
   "metadata": {},
   "outputs": [],
   "source": []
  }
 ],
 "metadata": {
  "kernelspec": {
   "display_name": "Python 3 (ipykernel)",
   "language": "python",
   "name": "python3"
  },
  "language_info": {
   "codemirror_mode": {
    "name": "ipython",
    "version": 3
   },
   "file_extension": ".py",
   "mimetype": "text/x-python",
   "name": "python",
   "nbconvert_exporter": "python",
   "pygments_lexer": "ipython3",
   "version": "3.9.7"
  }
 },
 "nbformat": 4,
 "nbformat_minor": 5
}
