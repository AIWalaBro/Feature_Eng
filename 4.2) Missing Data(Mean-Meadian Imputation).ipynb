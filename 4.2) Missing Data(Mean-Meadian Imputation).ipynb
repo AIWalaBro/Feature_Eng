{
 "cells": [
  {
   "cell_type": "code",
   "execution_count": 2,
   "id": "0f81c0d9",
   "metadata": {},
   "outputs": [],
   "source": [
    "import pandas as pd\n",
    "import numpy as np"
   ]
  },
  {
   "cell_type": "code",
   "execution_count": 3,
   "id": "9bbd54df",
   "metadata": {},
   "outputs": [
    {
     "name": "stderr",
     "output_type": "stream",
     "text": [
      "C:\\ProgramData\\Anaconda3\\lib\\site-packages\\scipy\\__init__.py:146: UserWarning: A NumPy version >=1.16.5 and <1.23.0 is required for this version of SciPy (detected version 1.23.1\n",
      "  warnings.warn(f\"A NumPy version >={np_minversion} and <{np_maxversion}\"\n"
     ]
    }
   ],
   "source": [
    "from sklearn.model_selection import train_test_split\n",
    "from sklearn.impute import SimpleImputer\n",
    "from sklearn.compose import ColumnTransformer"
   ]
  },
  {
   "cell_type": "code",
   "execution_count": 4,
   "id": "6f2a8363",
   "metadata": {},
   "outputs": [
    {
     "data": {
      "text/html": [
       "<div>\n",
       "<style scoped>\n",
       "    .dataframe tbody tr th:only-of-type {\n",
       "        vertical-align: middle;\n",
       "    }\n",
       "\n",
       "    .dataframe tbody tr th {\n",
       "        vertical-align: top;\n",
       "    }\n",
       "\n",
       "    .dataframe thead th {\n",
       "        text-align: right;\n",
       "    }\n",
       "</style>\n",
       "<table border=\"1\" class=\"dataframe\">\n",
       "  <thead>\n",
       "    <tr style=\"text-align: right;\">\n",
       "      <th></th>\n",
       "      <th>PassengerId</th>\n",
       "      <th>Survived</th>\n",
       "      <th>Pclass</th>\n",
       "      <th>Name</th>\n",
       "      <th>Sex</th>\n",
       "      <th>Age</th>\n",
       "      <th>SibSp</th>\n",
       "      <th>Parch</th>\n",
       "      <th>Ticket</th>\n",
       "      <th>Fare</th>\n",
       "      <th>Cabin</th>\n",
       "      <th>Embarked</th>\n",
       "    </tr>\n",
       "  </thead>\n",
       "  <tbody>\n",
       "    <tr>\n",
       "      <th>0</th>\n",
       "      <td>1</td>\n",
       "      <td>0</td>\n",
       "      <td>3</td>\n",
       "      <td>Braund, Mr. Owen Harris</td>\n",
       "      <td>male</td>\n",
       "      <td>22.0</td>\n",
       "      <td>1</td>\n",
       "      <td>0</td>\n",
       "      <td>A/5 21171</td>\n",
       "      <td>7.2500</td>\n",
       "      <td>NaN</td>\n",
       "      <td>S</td>\n",
       "    </tr>\n",
       "    <tr>\n",
       "      <th>1</th>\n",
       "      <td>2</td>\n",
       "      <td>1</td>\n",
       "      <td>1</td>\n",
       "      <td>Cumings, Mrs. John Bradley (Florence Briggs Th...</td>\n",
       "      <td>female</td>\n",
       "      <td>38.0</td>\n",
       "      <td>1</td>\n",
       "      <td>0</td>\n",
       "      <td>PC 17599</td>\n",
       "      <td>71.2833</td>\n",
       "      <td>C85</td>\n",
       "      <td>C</td>\n",
       "    </tr>\n",
       "    <tr>\n",
       "      <th>2</th>\n",
       "      <td>3</td>\n",
       "      <td>1</td>\n",
       "      <td>3</td>\n",
       "      <td>Heikkinen, Miss. Laina</td>\n",
       "      <td>female</td>\n",
       "      <td>26.0</td>\n",
       "      <td>0</td>\n",
       "      <td>0</td>\n",
       "      <td>STON/O2. 3101282</td>\n",
       "      <td>7.9250</td>\n",
       "      <td>NaN</td>\n",
       "      <td>S</td>\n",
       "    </tr>\n",
       "    <tr>\n",
       "      <th>3</th>\n",
       "      <td>4</td>\n",
       "      <td>1</td>\n",
       "      <td>1</td>\n",
       "      <td>Futrelle, Mrs. Jacques Heath (Lily May Peel)</td>\n",
       "      <td>female</td>\n",
       "      <td>35.0</td>\n",
       "      <td>1</td>\n",
       "      <td>0</td>\n",
       "      <td>113803</td>\n",
       "      <td>53.1000</td>\n",
       "      <td>C123</td>\n",
       "      <td>S</td>\n",
       "    </tr>\n",
       "    <tr>\n",
       "      <th>4</th>\n",
       "      <td>5</td>\n",
       "      <td>0</td>\n",
       "      <td>3</td>\n",
       "      <td>Allen, Mr. William Henry</td>\n",
       "      <td>male</td>\n",
       "      <td>35.0</td>\n",
       "      <td>0</td>\n",
       "      <td>0</td>\n",
       "      <td>373450</td>\n",
       "      <td>8.0500</td>\n",
       "      <td>NaN</td>\n",
       "      <td>S</td>\n",
       "    </tr>\n",
       "  </tbody>\n",
       "</table>\n",
       "</div>"
      ],
      "text/plain": [
       "   PassengerId  Survived  Pclass  \\\n",
       "0            1         0       3   \n",
       "1            2         1       1   \n",
       "2            3         1       3   \n",
       "3            4         1       1   \n",
       "4            5         0       3   \n",
       "\n",
       "                                                Name     Sex   Age  SibSp  \\\n",
       "0                            Braund, Mr. Owen Harris    male  22.0      1   \n",
       "1  Cumings, Mrs. John Bradley (Florence Briggs Th...  female  38.0      1   \n",
       "2                             Heikkinen, Miss. Laina  female  26.0      0   \n",
       "3       Futrelle, Mrs. Jacques Heath (Lily May Peel)  female  35.0      1   \n",
       "4                           Allen, Mr. William Henry    male  35.0      0   \n",
       "\n",
       "   Parch            Ticket     Fare Cabin Embarked  \n",
       "0      0         A/5 21171   7.2500   NaN        S  \n",
       "1      0          PC 17599  71.2833   C85        C  \n",
       "2      0  STON/O2. 3101282   7.9250   NaN        S  \n",
       "3      0            113803  53.1000  C123        S  \n",
       "4      0            373450   8.0500   NaN        S  "
      ]
     },
     "execution_count": 4,
     "metadata": {},
     "output_type": "execute_result"
    }
   ],
   "source": [
    "df = pd.read_csv(r\"C:\\Users\\Asus\\OneDrive\\Desktop\\Dataset\\train_titanic_dataset.csv\")\n",
    "df.head()"
   ]
  },
  {
   "cell_type": "code",
   "execution_count": 5,
   "id": "14e5492f",
   "metadata": {},
   "outputs": [],
   "source": [
    "# family joh hai voh siblingspouse aur parent child mil ke bna hai\n",
    "df['Family'] = pd.concat([df['SibSp']+df['Parch']],axis=1)"
   ]
  },
  {
   "cell_type": "code",
   "execution_count": 6,
   "id": "cd756389",
   "metadata": {},
   "outputs": [],
   "source": [
    "df = df[['Age','Fare','Family','Survived']]\n",
    "# we are only taking the these 4 columns to used as we know age having miising values"
   ]
  },
  {
   "cell_type": "code",
   "execution_count": 7,
   "id": "bffd792b",
   "metadata": {},
   "outputs": [
    {
     "data": {
      "text/html": [
       "<div>\n",
       "<style scoped>\n",
       "    .dataframe tbody tr th:only-of-type {\n",
       "        vertical-align: middle;\n",
       "    }\n",
       "\n",
       "    .dataframe tbody tr th {\n",
       "        vertical-align: top;\n",
       "    }\n",
       "\n",
       "    .dataframe thead th {\n",
       "        text-align: right;\n",
       "    }\n",
       "</style>\n",
       "<table border=\"1\" class=\"dataframe\">\n",
       "  <thead>\n",
       "    <tr style=\"text-align: right;\">\n",
       "      <th></th>\n",
       "      <th>Age</th>\n",
       "      <th>Fare</th>\n",
       "      <th>Family</th>\n",
       "      <th>Survived</th>\n",
       "    </tr>\n",
       "  </thead>\n",
       "  <tbody>\n",
       "    <tr>\n",
       "      <th>0</th>\n",
       "      <td>22.0</td>\n",
       "      <td>7.2500</td>\n",
       "      <td>1</td>\n",
       "      <td>0</td>\n",
       "    </tr>\n",
       "    <tr>\n",
       "      <th>1</th>\n",
       "      <td>38.0</td>\n",
       "      <td>71.2833</td>\n",
       "      <td>1</td>\n",
       "      <td>1</td>\n",
       "    </tr>\n",
       "    <tr>\n",
       "      <th>2</th>\n",
       "      <td>26.0</td>\n",
       "      <td>7.9250</td>\n",
       "      <td>0</td>\n",
       "      <td>1</td>\n",
       "    </tr>\n",
       "    <tr>\n",
       "      <th>3</th>\n",
       "      <td>35.0</td>\n",
       "      <td>53.1000</td>\n",
       "      <td>1</td>\n",
       "      <td>1</td>\n",
       "    </tr>\n",
       "    <tr>\n",
       "      <th>4</th>\n",
       "      <td>35.0</td>\n",
       "      <td>8.0500</td>\n",
       "      <td>0</td>\n",
       "      <td>0</td>\n",
       "    </tr>\n",
       "  </tbody>\n",
       "</table>\n",
       "</div>"
      ],
      "text/plain": [
       "    Age     Fare  Family  Survived\n",
       "0  22.0   7.2500       1         0\n",
       "1  38.0  71.2833       1         1\n",
       "2  26.0   7.9250       0         1\n",
       "3  35.0  53.1000       1         1\n",
       "4  35.0   8.0500       0         0"
      ]
     },
     "execution_count": 7,
     "metadata": {},
     "output_type": "execute_result"
    }
   ],
   "source": [
    "df.head()"
   ]
  },
  {
   "cell_type": "code",
   "execution_count": 11,
   "id": "65906166",
   "metadata": {},
   "outputs": [],
   "source": [
    "x = df.drop(columns = ['Survived'])\n",
    "y = df['Survived']"
   ]
  },
  {
   "cell_type": "code",
   "execution_count": 101,
   "id": "8eeb0eca",
   "metadata": {},
   "outputs": [],
   "source": [
    "x_train,x_test,y_train,y_test = train_test_split(x,y,random_state = 2,test_size = 0.2 )"
   ]
  },
  {
   "cell_type": "code",
   "execution_count": 102,
   "id": "28dae4cb",
   "metadata": {},
   "outputs": [
    {
     "data": {
      "text/plain": [
       "(712, 3)"
      ]
     },
     "execution_count": 102,
     "metadata": {},
     "output_type": "execute_result"
    }
   ],
   "source": [
    "x_train.shape"
   ]
  },
  {
   "cell_type": "code",
   "execution_count": 103,
   "id": "9ee65bcc",
   "metadata": {},
   "outputs": [
    {
     "data": {
      "text/plain": [
       "(179, 3)"
      ]
     },
     "execution_count": 103,
     "metadata": {},
     "output_type": "execute_result"
    }
   ],
   "source": [
    "x_test.shape"
   ]
  },
  {
   "cell_type": "code",
   "execution_count": 104,
   "id": "d8293810",
   "metadata": {},
   "outputs": [
    {
     "data": {
      "text/plain": [
       "Age       20.786517\n",
       "Fare       0.000000\n",
       "Family     0.000000\n",
       "dtype: float64"
      ]
     },
     "execution_count": 104,
     "metadata": {},
     "output_type": "execute_result"
    }
   ],
   "source": [
    "x_train.isnull().mean()*100"
   ]
  },
  {
   "cell_type": "code",
   "execution_count": 105,
   "id": "9785a849",
   "metadata": {},
   "outputs": [
    {
     "name": "stdout",
     "output_type": "stream",
     "text": [
      "29.78590425531915\n",
      "28.75\n"
     ]
    }
   ],
   "source": [
    "# meadian _age & mean of age\n",
    "mean_age = x_train['Age'].mean()\n",
    "print(mean_age)\n",
    "meadian_age = x_train['Age'].median()\n",
    "print(meadian_age)\n"
   ]
  },
  {
   "cell_type": "code",
   "execution_count": 106,
   "id": "8edf5615",
   "metadata": {},
   "outputs": [],
   "source": [
    "x_train['age_mean'] = x_train['Age'].fillna(mean_age)\n",
    "x_train['age_median']   = x_train['Age'].fillna(meadian_age)"
   ]
  },
  {
   "cell_type": "code",
   "execution_count": 107,
   "id": "6a464363",
   "metadata": {},
   "outputs": [
    {
     "data": {
      "text/html": [
       "<div>\n",
       "<style scoped>\n",
       "    .dataframe tbody tr th:only-of-type {\n",
       "        vertical-align: middle;\n",
       "    }\n",
       "\n",
       "    .dataframe tbody tr th {\n",
       "        vertical-align: top;\n",
       "    }\n",
       "\n",
       "    .dataframe thead th {\n",
       "        text-align: right;\n",
       "    }\n",
       "</style>\n",
       "<table border=\"1\" class=\"dataframe\">\n",
       "  <thead>\n",
       "    <tr style=\"text-align: right;\">\n",
       "      <th></th>\n",
       "      <th>Age</th>\n",
       "      <th>Fare</th>\n",
       "      <th>Family</th>\n",
       "      <th>age_mean</th>\n",
       "      <th>age_median</th>\n",
       "    </tr>\n",
       "  </thead>\n",
       "  <tbody>\n",
       "    <tr>\n",
       "      <th>30</th>\n",
       "      <td>40.0</td>\n",
       "      <td>27.7208</td>\n",
       "      <td>0</td>\n",
       "      <td>40.000000</td>\n",
       "      <td>40.00</td>\n",
       "    </tr>\n",
       "    <tr>\n",
       "      <th>10</th>\n",
       "      <td>4.0</td>\n",
       "      <td>16.7000</td>\n",
       "      <td>2</td>\n",
       "      <td>4.000000</td>\n",
       "      <td>4.00</td>\n",
       "    </tr>\n",
       "    <tr>\n",
       "      <th>873</th>\n",
       "      <td>47.0</td>\n",
       "      <td>9.0000</td>\n",
       "      <td>0</td>\n",
       "      <td>47.000000</td>\n",
       "      <td>47.00</td>\n",
       "    </tr>\n",
       "    <tr>\n",
       "      <th>182</th>\n",
       "      <td>9.0</td>\n",
       "      <td>31.3875</td>\n",
       "      <td>6</td>\n",
       "      <td>9.000000</td>\n",
       "      <td>9.00</td>\n",
       "    </tr>\n",
       "    <tr>\n",
       "      <th>876</th>\n",
       "      <td>20.0</td>\n",
       "      <td>9.8458</td>\n",
       "      <td>0</td>\n",
       "      <td>20.000000</td>\n",
       "      <td>20.00</td>\n",
       "    </tr>\n",
       "    <tr>\n",
       "      <th>...</th>\n",
       "      <td>...</td>\n",
       "      <td>...</td>\n",
       "      <td>...</td>\n",
       "      <td>...</td>\n",
       "      <td>...</td>\n",
       "    </tr>\n",
       "    <tr>\n",
       "      <th>534</th>\n",
       "      <td>30.0</td>\n",
       "      <td>8.6625</td>\n",
       "      <td>0</td>\n",
       "      <td>30.000000</td>\n",
       "      <td>30.00</td>\n",
       "    </tr>\n",
       "    <tr>\n",
       "      <th>584</th>\n",
       "      <td>NaN</td>\n",
       "      <td>8.7125</td>\n",
       "      <td>0</td>\n",
       "      <td>29.785904</td>\n",
       "      <td>28.75</td>\n",
       "    </tr>\n",
       "    <tr>\n",
       "      <th>493</th>\n",
       "      <td>71.0</td>\n",
       "      <td>49.5042</td>\n",
       "      <td>0</td>\n",
       "      <td>71.000000</td>\n",
       "      <td>71.00</td>\n",
       "    </tr>\n",
       "    <tr>\n",
       "      <th>527</th>\n",
       "      <td>NaN</td>\n",
       "      <td>221.7792</td>\n",
       "      <td>0</td>\n",
       "      <td>29.785904</td>\n",
       "      <td>28.75</td>\n",
       "    </tr>\n",
       "    <tr>\n",
       "      <th>168</th>\n",
       "      <td>NaN</td>\n",
       "      <td>25.9250</td>\n",
       "      <td>0</td>\n",
       "      <td>29.785904</td>\n",
       "      <td>28.75</td>\n",
       "    </tr>\n",
       "  </tbody>\n",
       "</table>\n",
       "<p>712 rows × 5 columns</p>\n",
       "</div>"
      ],
      "text/plain": [
       "      Age      Fare  Family   age_mean  age_median\n",
       "30   40.0   27.7208       0  40.000000       40.00\n",
       "10    4.0   16.7000       2   4.000000        4.00\n",
       "873  47.0    9.0000       0  47.000000       47.00\n",
       "182   9.0   31.3875       6   9.000000        9.00\n",
       "876  20.0    9.8458       0  20.000000       20.00\n",
       "..    ...       ...     ...        ...         ...\n",
       "534  30.0    8.6625       0  30.000000       30.00\n",
       "584   NaN    8.7125       0  29.785904       28.75\n",
       "493  71.0   49.5042       0  71.000000       71.00\n",
       "527   NaN  221.7792       0  29.785904       28.75\n",
       "168   NaN   25.9250       0  29.785904       28.75\n",
       "\n",
       "[712 rows x 5 columns]"
      ]
     },
     "execution_count": 107,
     "metadata": {},
     "output_type": "execute_result"
    }
   ],
   "source": [
    "x_train"
   ]
  },
  {
   "cell_type": "markdown",
   "id": "70ab2a5c",
   "metadata": {},
   "source": [
    "# lets check the variance"
   ]
  },
  {
   "cell_type": "code",
   "execution_count": 108,
   "id": "f8ae7518",
   "metadata": {},
   "outputs": [
    {
     "name": "stdout",
     "output_type": "stream",
     "text": [
      "Original age variable variance 204.3495133904614\n",
      "age variance after meadian imputation 161.9895663346054\n",
      "age variance after mean imputation 161.81262452718673\n"
     ]
    }
   ],
   "source": [
    "\n",
    "print('Original age variable variance',x_train['Age'].var())\n",
    "print('age variance after meadian imputation',x_train['age_median'].var())\n",
    "print('age variance after mean imputation',x_train['age_mean'].var())"
   ]
  },
  {
   "cell_type": "markdown",
   "id": "18747030",
   "metadata": {},
   "source": [
    "# observation:- age me 20 % missing values that why bada change aya usme"
   ]
  },
  {
   "cell_type": "markdown",
   "id": "d4009fb5",
   "metadata": {},
   "source": [
    "# hme kya notice krna chahiye \n",
    "* variance drastically change na ho\n",
    "* distribution me kaisa change aya \n",
    "* covariance and correlation check krna chahiye\n"
   ]
  },
  {
   "cell_type": "markdown",
   "id": "19390e67",
   "metadata": {},
   "source": [
    "# PDF"
   ]
  },
  {
   "cell_type": "code",
   "execution_count": 109,
   "id": "55082ef2",
   "metadata": {},
   "outputs": [],
   "source": [
    "import matplotlib.pyplot as plt"
   ]
  },
  {
   "cell_type": "code",
   "execution_count": 110,
   "id": "74c17d92",
   "metadata": {},
   "outputs": [
    {
     "data": {
      "text/plain": [
       "<matplotlib.legend.Legend at 0x25125039be0>"
      ]
     },
     "execution_count": 110,
     "metadata": {},
     "output_type": "execute_result"
    },
    {
     "data": {
      "image/png": "[encoded data removed]",
      "text/plain": [
       "<Figure size 1008x288 with 1 Axes>"
      ]
     },
     "metadata": {
      "needs_background": "light"
     },
     "output_type": "display_data"
    }
   ],
   "source": [
    "fig = plt.figure(figsize=(14,4))\n",
    "ax = fig.add_subplot(111)\n",
    "\n",
    "# original distribution\n",
    "x_train['Age'].plot(kind = 'kde',ax=ax)\n",
    "\n",
    "# with meadian\n",
    "x_train['age_median'].plot(kind= 'kde',ax=ax,color = 'red')\n",
    "# with mean\n",
    "x_train['age_mean'].plot(kind='kde',ax=ax,color = 'green')\n",
    "\n",
    "# add legends\n",
    "lines,labels = ax.get_legend_handles_labels()\n",
    "ax.legend(lines, labels, loc='best')\n",
    "\n"
   ]
  },
  {
   "cell_type": "markdown",
   "id": "535825f4",
   "metadata": {},
   "source": [
    "# lets check covariance"
   ]
  },
  {
   "cell_type": "code",
   "execution_count": 41,
   "id": "59408310",
   "metadata": {},
   "outputs": [
    {
     "data": {
      "text/html": [
       "<div>\n",
       "<style scoped>\n",
       "    .dataframe tbody tr th:only-of-type {\n",
       "        vertical-align: middle;\n",
       "    }\n",
       "\n",
       "    .dataframe tbody tr th {\n",
       "        vertical-align: top;\n",
       "    }\n",
       "\n",
       "    .dataframe thead th {\n",
       "        text-align: right;\n",
       "    }\n",
       "</style>\n",
       "<table border=\"1\" class=\"dataframe\">\n",
       "  <thead>\n",
       "    <tr style=\"text-align: right;\">\n",
       "      <th></th>\n",
       "      <th>Age</th>\n",
       "      <th>Fare</th>\n",
       "      <th>Family</th>\n",
       "      <th>age_median</th>\n",
       "      <th>age_mean</th>\n",
       "    </tr>\n",
       "  </thead>\n",
       "  <tbody>\n",
       "    <tr>\n",
       "      <th>Age</th>\n",
       "      <td>204.349513</td>\n",
       "      <td>71.512440</td>\n",
       "      <td>-6.498901</td>\n",
       "      <td>204.349513</td>\n",
       "      <td>204.349513</td>\n",
       "    </tr>\n",
       "    <tr>\n",
       "      <th>Fare</th>\n",
       "      <td>71.512440</td>\n",
       "      <td>2368.246832</td>\n",
       "      <td>16.847264</td>\n",
       "      <td>58.986531</td>\n",
       "      <td>56.626587</td>\n",
       "    </tr>\n",
       "    <tr>\n",
       "      <th>Family</th>\n",
       "      <td>-6.498901</td>\n",
       "      <td>16.847264</td>\n",
       "      <td>2.735252</td>\n",
       "      <td>-5.112563</td>\n",
       "      <td>-5.146106</td>\n",
       "    </tr>\n",
       "    <tr>\n",
       "      <th>age_median</th>\n",
       "      <td>204.349513</td>\n",
       "      <td>58.986531</td>\n",
       "      <td>-5.112563</td>\n",
       "      <td>161.989566</td>\n",
       "      <td>161.812625</td>\n",
       "    </tr>\n",
       "    <tr>\n",
       "      <th>age_mean</th>\n",
       "      <td>204.349513</td>\n",
       "      <td>56.626587</td>\n",
       "      <td>-5.146106</td>\n",
       "      <td>161.812625</td>\n",
       "      <td>161.812625</td>\n",
       "    </tr>\n",
       "  </tbody>\n",
       "</table>\n",
       "</div>"
      ],
      "text/plain": [
       "                   Age         Fare     Family  age_median    age_mean\n",
       "Age         204.349513    71.512440  -6.498901  204.349513  204.349513\n",
       "Fare         71.512440  2368.246832  16.847264   58.986531   56.626587\n",
       "Family       -6.498901    16.847264   2.735252   -5.112563   -5.146106\n",
       "age_median  204.349513    58.986531  -5.112563  161.989566  161.812625\n",
       "age_mean    204.349513    56.626587  -5.146106  161.812625  161.812625"
      ]
     },
     "execution_count": 41,
     "metadata": {},
     "output_type": "execute_result"
    }
   ],
   "source": [
    "x_train.cov()"
   ]
  },
  {
   "cell_type": "markdown",
   "id": "1edbc6f6",
   "metadata": {},
   "source": [
    "# lets check correlation"
   ]
  },
  {
   "cell_type": "code",
   "execution_count": 42,
   "id": "8f0716ce",
   "metadata": {},
   "outputs": [
    {
     "data": {
      "text/html": [
       "<div>\n",
       "<style scoped>\n",
       "    .dataframe tbody tr th:only-of-type {\n",
       "        vertical-align: middle;\n",
       "    }\n",
       "\n",
       "    .dataframe tbody tr th {\n",
       "        vertical-align: top;\n",
       "    }\n",
       "\n",
       "    .dataframe thead th {\n",
       "        text-align: right;\n",
       "    }\n",
       "</style>\n",
       "<table border=\"1\" class=\"dataframe\">\n",
       "  <thead>\n",
       "    <tr style=\"text-align: right;\">\n",
       "      <th></th>\n",
       "      <th>Age</th>\n",
       "      <th>Fare</th>\n",
       "      <th>Family</th>\n",
       "      <th>age_median</th>\n",
       "      <th>age_mean</th>\n",
       "    </tr>\n",
       "  </thead>\n",
       "  <tbody>\n",
       "    <tr>\n",
       "      <th>Age</th>\n",
       "      <td>1.000000</td>\n",
       "      <td>0.095814</td>\n",
       "      <td>-0.299113</td>\n",
       "      <td>1.000000</td>\n",
       "      <td>1.000000</td>\n",
       "    </tr>\n",
       "    <tr>\n",
       "      <th>Fare</th>\n",
       "      <td>0.095814</td>\n",
       "      <td>1.000000</td>\n",
       "      <td>0.209323</td>\n",
       "      <td>0.095235</td>\n",
       "      <td>0.091475</td>\n",
       "    </tr>\n",
       "    <tr>\n",
       "      <th>Family</th>\n",
       "      <td>-0.299113</td>\n",
       "      <td>0.209323</td>\n",
       "      <td>1.000000</td>\n",
       "      <td>-0.242883</td>\n",
       "      <td>-0.244610</td>\n",
       "    </tr>\n",
       "    <tr>\n",
       "      <th>age_median</th>\n",
       "      <td>1.000000</td>\n",
       "      <td>0.095235</td>\n",
       "      <td>-0.242883</td>\n",
       "      <td>1.000000</td>\n",
       "      <td>0.999454</td>\n",
       "    </tr>\n",
       "    <tr>\n",
       "      <th>age_mean</th>\n",
       "      <td>1.000000</td>\n",
       "      <td>0.091475</td>\n",
       "      <td>-0.244610</td>\n",
       "      <td>0.999454</td>\n",
       "      <td>1.000000</td>\n",
       "    </tr>\n",
       "  </tbody>\n",
       "</table>\n",
       "</div>"
      ],
      "text/plain": [
       "                 Age      Fare    Family  age_median  age_mean\n",
       "Age         1.000000  0.095814 -0.299113    1.000000  1.000000\n",
       "Fare        0.095814  1.000000  0.209323    0.095235  0.091475\n",
       "Family     -0.299113  0.209323  1.000000   -0.242883 -0.244610\n",
       "age_median  1.000000  0.095235 -0.242883    1.000000  0.999454\n",
       "age_mean    1.000000  0.091475 -0.244610    0.999454  1.000000"
      ]
     },
     "execution_count": 42,
     "metadata": {},
     "output_type": "execute_result"
    }
   ],
   "source": [
    "x_train.corr()"
   ]
  },
  {
   "cell_type": "markdown",
   "id": "bbf92e13",
   "metadata": {},
   "source": [
    "# lets plot the boxplot to check the outliers"
   ]
  },
  {
   "cell_type": "code",
   "execution_count": 44,
   "id": "ab3420a1",
   "metadata": {},
   "outputs": [
    {
     "data": {
      "text/plain": [
       "<AxesSubplot:>"
      ]
     },
     "execution_count": 44,
     "metadata": {},
     "output_type": "execute_result"
    },
    {
     "data": {
      "image/png": "[encoded data removed]",
      "text/plain": [
       "<Figure size 432x288 with 1 Axes>"
      ]
     },
     "metadata": {
      "needs_background": "light"
     },
     "output_type": "display_data"
    }
   ],
   "source": [
    "x_train[['Age','age_median','age_mean']].boxplot()"
   ]
  },
  {
   "cell_type": "code",
   "execution_count": null,
   "id": "c9728da3",
   "metadata": {},
   "outputs": [],
   "source": []
  },
  {
   "cell_type": "markdown",
   "id": "02eeeacd",
   "metadata": {},
   "source": [
    "# lest use sklearn"
   ]
  },
  {
   "cell_type": "code",
   "execution_count": 82,
   "id": "d0b16fac",
   "metadata": {},
   "outputs": [],
   "source": [
    "x_train,x_test,y_train,y_test = train_test_split(x,y,random_state = 2,test_size = 0.2)"
   ]
  },
  {
   "cell_type": "code",
   "execution_count": 85,
   "id": "db2cebef",
   "metadata": {},
   "outputs": [
    {
     "data": {
      "text/html": [
       "<div>\n",
       "<style scoped>\n",
       "    .dataframe tbody tr th:only-of-type {\n",
       "        vertical-align: middle;\n",
       "    }\n",
       "\n",
       "    .dataframe tbody tr th {\n",
       "        vertical-align: top;\n",
       "    }\n",
       "\n",
       "    .dataframe thead th {\n",
       "        text-align: right;\n",
       "    }\n",
       "</style>\n",
       "<table border=\"1\" class=\"dataframe\">\n",
       "  <thead>\n",
       "    <tr style=\"text-align: right;\">\n",
       "      <th></th>\n",
       "      <th>Age</th>\n",
       "      <th>Fare</th>\n",
       "      <th>Family</th>\n",
       "    </tr>\n",
       "  </thead>\n",
       "  <tbody>\n",
       "    <tr>\n",
       "      <th>30</th>\n",
       "      <td>40.0</td>\n",
       "      <td>27.7208</td>\n",
       "      <td>0</td>\n",
       "    </tr>\n",
       "    <tr>\n",
       "      <th>10</th>\n",
       "      <td>4.0</td>\n",
       "      <td>16.7000</td>\n",
       "      <td>2</td>\n",
       "    </tr>\n",
       "    <tr>\n",
       "      <th>873</th>\n",
       "      <td>47.0</td>\n",
       "      <td>9.0000</td>\n",
       "      <td>0</td>\n",
       "    </tr>\n",
       "    <tr>\n",
       "      <th>182</th>\n",
       "      <td>9.0</td>\n",
       "      <td>31.3875</td>\n",
       "      <td>6</td>\n",
       "    </tr>\n",
       "    <tr>\n",
       "      <th>876</th>\n",
       "      <td>20.0</td>\n",
       "      <td>9.8458</td>\n",
       "      <td>0</td>\n",
       "    </tr>\n",
       "    <tr>\n",
       "      <th>...</th>\n",
       "      <td>...</td>\n",
       "      <td>...</td>\n",
       "      <td>...</td>\n",
       "    </tr>\n",
       "    <tr>\n",
       "      <th>534</th>\n",
       "      <td>30.0</td>\n",
       "      <td>8.6625</td>\n",
       "      <td>0</td>\n",
       "    </tr>\n",
       "    <tr>\n",
       "      <th>584</th>\n",
       "      <td>NaN</td>\n",
       "      <td>8.7125</td>\n",
       "      <td>0</td>\n",
       "    </tr>\n",
       "    <tr>\n",
       "      <th>493</th>\n",
       "      <td>71.0</td>\n",
       "      <td>49.5042</td>\n",
       "      <td>0</td>\n",
       "    </tr>\n",
       "    <tr>\n",
       "      <th>527</th>\n",
       "      <td>NaN</td>\n",
       "      <td>221.7792</td>\n",
       "      <td>0</td>\n",
       "    </tr>\n",
       "    <tr>\n",
       "      <th>168</th>\n",
       "      <td>NaN</td>\n",
       "      <td>25.9250</td>\n",
       "      <td>0</td>\n",
       "    </tr>\n",
       "  </tbody>\n",
       "</table>\n",
       "<p>712 rows × 3 columns</p>\n",
       "</div>"
      ],
      "text/plain": [
       "      Age      Fare  Family\n",
       "30   40.0   27.7208       0\n",
       "10    4.0   16.7000       2\n",
       "873  47.0    9.0000       0\n",
       "182   9.0   31.3875       6\n",
       "876  20.0    9.8458       0\n",
       "..    ...       ...     ...\n",
       "534  30.0    8.6625       0\n",
       "584   NaN    8.7125       0\n",
       "493  71.0   49.5042       0\n",
       "527   NaN  221.7792       0\n",
       "168   NaN   25.9250       0\n",
       "\n",
       "[712 rows x 3 columns]"
      ]
     },
     "execution_count": 85,
     "metadata": {},
     "output_type": "execute_result"
    }
   ],
   "source": [
    "x_train"
   ]
  },
  {
   "cell_type": "code",
   "execution_count": 86,
   "id": "e29f4b2f",
   "metadata": {},
   "outputs": [
    {
     "data": {
      "text/html": [
       "<div>\n",
       "<style scoped>\n",
       "    .dataframe tbody tr th:only-of-type {\n",
       "        vertical-align: middle;\n",
       "    }\n",
       "\n",
       "    .dataframe tbody tr th {\n",
       "        vertical-align: top;\n",
       "    }\n",
       "\n",
       "    .dataframe thead th {\n",
       "        text-align: right;\n",
       "    }\n",
       "</style>\n",
       "<table border=\"1\" class=\"dataframe\">\n",
       "  <thead>\n",
       "    <tr style=\"text-align: right;\">\n",
       "      <th></th>\n",
       "      <th>Age</th>\n",
       "      <th>Fare</th>\n",
       "      <th>Family</th>\n",
       "    </tr>\n",
       "  </thead>\n",
       "  <tbody>\n",
       "    <tr>\n",
       "      <th>707</th>\n",
       "      <td>42.0</td>\n",
       "      <td>26.2875</td>\n",
       "      <td>0</td>\n",
       "    </tr>\n",
       "    <tr>\n",
       "      <th>37</th>\n",
       "      <td>21.0</td>\n",
       "      <td>8.0500</td>\n",
       "      <td>0</td>\n",
       "    </tr>\n",
       "    <tr>\n",
       "      <th>615</th>\n",
       "      <td>24.0</td>\n",
       "      <td>65.0000</td>\n",
       "      <td>3</td>\n",
       "    </tr>\n",
       "    <tr>\n",
       "      <th>169</th>\n",
       "      <td>28.0</td>\n",
       "      <td>56.4958</td>\n",
       "      <td>0</td>\n",
       "    </tr>\n",
       "    <tr>\n",
       "      <th>68</th>\n",
       "      <td>17.0</td>\n",
       "      <td>7.9250</td>\n",
       "      <td>6</td>\n",
       "    </tr>\n",
       "    <tr>\n",
       "      <th>...</th>\n",
       "      <td>...</td>\n",
       "      <td>...</td>\n",
       "      <td>...</td>\n",
       "    </tr>\n",
       "    <tr>\n",
       "      <th>89</th>\n",
       "      <td>24.0</td>\n",
       "      <td>8.0500</td>\n",
       "      <td>0</td>\n",
       "    </tr>\n",
       "    <tr>\n",
       "      <th>80</th>\n",
       "      <td>22.0</td>\n",
       "      <td>9.0000</td>\n",
       "      <td>0</td>\n",
       "    </tr>\n",
       "    <tr>\n",
       "      <th>846</th>\n",
       "      <td>NaN</td>\n",
       "      <td>69.5500</td>\n",
       "      <td>10</td>\n",
       "    </tr>\n",
       "    <tr>\n",
       "      <th>870</th>\n",
       "      <td>26.0</td>\n",
       "      <td>7.8958</td>\n",
       "      <td>0</td>\n",
       "    </tr>\n",
       "    <tr>\n",
       "      <th>251</th>\n",
       "      <td>29.0</td>\n",
       "      <td>10.4625</td>\n",
       "      <td>2</td>\n",
       "    </tr>\n",
       "  </tbody>\n",
       "</table>\n",
       "<p>179 rows × 3 columns</p>\n",
       "</div>"
      ],
      "text/plain": [
       "      Age     Fare  Family\n",
       "707  42.0  26.2875       0\n",
       "37   21.0   8.0500       0\n",
       "615  24.0  65.0000       3\n",
       "169  28.0  56.4958       0\n",
       "68   17.0   7.9250       6\n",
       "..    ...      ...     ...\n",
       "89   24.0   8.0500       0\n",
       "80   22.0   9.0000       0\n",
       "846   NaN  69.5500      10\n",
       "870  26.0   7.8958       0\n",
       "251  29.0  10.4625       2\n",
       "\n",
       "[179 rows x 3 columns]"
      ]
     },
     "execution_count": 86,
     "metadata": {},
     "output_type": "execute_result"
    }
   ],
   "source": [
    "x_test"
   ]
  },
  {
   "cell_type": "code",
   "execution_count": 87,
   "id": "24180b90",
   "metadata": {},
   "outputs": [],
   "source": [
    "imputer1 = SimpleImputer(strategy = 'median')\n",
    "imputer2 = SimpleImputer(strategy = 'mean')"
   ]
  },
  {
   "cell_type": "code",
   "execution_count": 88,
   "id": "5b69823d",
   "metadata": {},
   "outputs": [],
   "source": [
    "trf = ColumnTransformer([\n",
    "    ('impute1',imputer1,['Age'])\n",
    "],remainder = 'passthrough')"
   ]
  },
  {
   "cell_type": "code",
   "execution_count": 93,
   "id": "5541aa84",
   "metadata": {},
   "outputs": [],
   "source": [
    "trf2 = ColumnTransformer([\n",
    "    ('impute2',imputer2,['Age'])\n",
    "],remainder = 'passthrough')"
   ]
  },
  {
   "cell_type": "code",
   "execution_count": 89,
   "id": "0e39ee57",
   "metadata": {},
   "outputs": [
    {
     "data": {
      "text/html": [
       "<style>#sk-container-id-6 {color: black;background-color: white;}#sk-container-id-6 pre{padding: 0;}#sk-container-id-6 div.sk-toggleable {background-color: white;}#sk-container-id-6 label.sk-toggleable__label {cursor: pointer;display: block;width: 100%;margin-bottom: 0;padding: 0.3em;box-sizing: border-box;text-align: center;}#sk-container-id-6 label.sk-toggleable__label-arrow:before {content: \"▸\";float: left;margin-right: 0.25em;color: #696969;}#sk-container-id-6 label.sk-toggleable__label-arrow:hover:before {color: black;}#sk-container-id-6 div.sk-estimator:hover label.sk-toggleable__label-arrow:before {color: black;}#sk-container-id-6 div.sk-toggleable__content {max-height: 0;max-width: 0;overflow: hidden;text-align: left;background-color: #f0f8ff;}#sk-container-id-6 div.sk-toggleable__content pre {margin: 0.2em;color: black;border-radius: 0.25em;background-color: #f0f8ff;}#sk-container-id-6 input.sk-toggleable__control:checked~div.sk-toggleable__content {max-height: 200px;max-width: 100%;overflow: auto;}#sk-container-id-6 input.sk-toggleable__control:checked~label.sk-toggleable__label-arrow:before {content: \"▾\";}#sk-container-id-6 div.sk-estimator input.sk-toggleable__control:checked~label.sk-toggleable__label {background-color: #d4ebff;}#sk-container-id-6 div.sk-label input.sk-toggleable__control:checked~label.sk-toggleable__label {background-color: #d4ebff;}#sk-container-id-6 input.sk-hidden--visually {border: 0;clip: rect(1px 1px 1px 1px);clip: rect(1px, 1px, 1px, 1px);height: 1px;margin: -1px;overflow: hidden;padding: 0;position: absolute;width: 1px;}#sk-container-id-6 div.sk-estimator {font-family: monospace;background-color: #f0f8ff;border: 1px dotted black;border-radius: 0.25em;box-sizing: border-box;margin-bottom: 0.5em;}#sk-container-id-6 div.sk-estimator:hover {background-color: #d4ebff;}#sk-container-id-6 div.sk-parallel-item::after {content: \"\";width: 100%;border-bottom: 1px solid gray;flex-grow: 1;}#sk-container-id-6 div.sk-label:hover label.sk-toggleable__label {background-color: #d4ebff;}#sk-container-id-6 div.sk-serial::before {content: \"\";position: absolute;border-left: 1px solid gray;box-sizing: border-box;top: 0;bottom: 0;left: 50%;z-index: 0;}#sk-container-id-6 div.sk-serial {display: flex;flex-direction: column;align-items: center;background-color: white;padding-right: 0.2em;padding-left: 0.2em;position: relative;}#sk-container-id-6 div.sk-item {position: relative;z-index: 1;}#sk-container-id-6 div.sk-parallel {display: flex;align-items: stretch;justify-content: center;background-color: white;position: relative;}#sk-container-id-6 div.sk-item::before, #sk-container-id-6 div.sk-parallel-item::before {content: \"\";position: absolute;border-left: 1px solid gray;box-sizing: border-box;top: 0;bottom: 0;left: 50%;z-index: -1;}#sk-container-id-6 div.sk-parallel-item {display: flex;flex-direction: column;z-index: 1;position: relative;background-color: white;}#sk-container-id-6 div.sk-parallel-item:first-child::after {align-self: flex-end;width: 50%;}#sk-container-id-6 div.sk-parallel-item:last-child::after {align-self: flex-start;width: 50%;}#sk-container-id-6 div.sk-parallel-item:only-child::after {width: 0;}#sk-container-id-6 div.sk-dashed-wrapped {border: 1px dashed gray;margin: 0 0.4em 0.5em 0.4em;box-sizing: border-box;padding-bottom: 0.4em;background-color: white;}#sk-container-id-6 div.sk-label label {font-family: monospace;font-weight: bold;display: inline-block;line-height: 1.2em;}#sk-container-id-6 div.sk-label-container {text-align: center;}#sk-container-id-6 div.sk-container {/* jupyter's `normalize.less` sets `[hidden] { display: none; }` but bootstrap.min.css set `[hidden] { display: none !important; }` so we also need the `!important` here to be able to override the default hidden behavior on the sphinx rendered scikit-learn.org. See: https://github.com/scikit-learn/scikit-learn/issues/21755 */display: inline-block !important;position: relative;}#sk-container-id-6 div.sk-text-repr-fallback {display: none;}</style><div id=\"sk-container-id-6\" class=\"sk-top-container\"><div class=\"sk-text-repr-fallback\"><pre>ColumnTransformer(remainder=&#x27;passthrough&#x27;,\n",
       "                  transformers=[(&#x27;impute1&#x27;, SimpleImputer(strategy=&#x27;median&#x27;),\n",
       "                                 [&#x27;Age&#x27;])])</pre><b>In a Jupyter environment, please rerun this cell to show the HTML representation or trust the notebook. <br />On GitHub, the HTML representation is unable to render, please try loading this page with nbviewer.org.</b></div><div class=\"sk-container\" hidden><div class=\"sk-item sk-dashed-wrapped\"><div class=\"sk-label-container\"><div class=\"sk-label sk-toggleable\"><input class=\"sk-toggleable__control sk-hidden--visually\" id=\"sk-estimator-id-26\" type=\"checkbox\" ><label for=\"sk-estimator-id-26\" class=\"sk-toggleable__label sk-toggleable__label-arrow\">ColumnTransformer</label><div class=\"sk-toggleable__content\"><pre>ColumnTransformer(remainder=&#x27;passthrough&#x27;,\n",
       "                  transformers=[(&#x27;impute1&#x27;, SimpleImputer(strategy=&#x27;median&#x27;),\n",
       "                                 [&#x27;Age&#x27;])])</pre></div></div></div><div class=\"sk-parallel\"><div class=\"sk-parallel-item\"><div class=\"sk-item\"><div class=\"sk-label-container\"><div class=\"sk-label sk-toggleable\"><input class=\"sk-toggleable__control sk-hidden--visually\" id=\"sk-estimator-id-27\" type=\"checkbox\" ><label for=\"sk-estimator-id-27\" class=\"sk-toggleable__label sk-toggleable__label-arrow\">impute1</label><div class=\"sk-toggleable__content\"><pre>[&#x27;Age&#x27;]</pre></div></div></div><div class=\"sk-serial\"><div class=\"sk-item\"><div class=\"sk-estimator sk-toggleable\"><input class=\"sk-toggleable__control sk-hidden--visually\" id=\"sk-estimator-id-28\" type=\"checkbox\" ><label for=\"sk-estimator-id-28\" class=\"sk-toggleable__label sk-toggleable__label-arrow\">SimpleImputer</label><div class=\"sk-toggleable__content\"><pre>SimpleImputer(strategy=&#x27;median&#x27;)</pre></div></div></div></div></div></div><div class=\"sk-parallel-item\"><div class=\"sk-item\"><div class=\"sk-label-container\"><div class=\"sk-label sk-toggleable\"><input class=\"sk-toggleable__control sk-hidden--visually\" id=\"sk-estimator-id-29\" type=\"checkbox\" ><label for=\"sk-estimator-id-29\" class=\"sk-toggleable__label sk-toggleable__label-arrow\">remainder</label><div class=\"sk-toggleable__content\"><pre>[&#x27;Fare&#x27;, &#x27;Family&#x27;]</pre></div></div></div><div class=\"sk-serial\"><div class=\"sk-item\"><div class=\"sk-estimator sk-toggleable\"><input class=\"sk-toggleable__control sk-hidden--visually\" id=\"sk-estimator-id-30\" type=\"checkbox\" ><label for=\"sk-estimator-id-30\" class=\"sk-toggleable__label sk-toggleable__label-arrow\">passthrough</label><div class=\"sk-toggleable__content\"><pre>passthrough</pre></div></div></div></div></div></div></div></div></div></div>"
      ],
      "text/plain": [
       "ColumnTransformer(remainder='passthrough',\n",
       "                  transformers=[('impute1', SimpleImputer(strategy='median'),\n",
       "                                 ['Age'])])"
      ]
     },
     "execution_count": 89,
     "metadata": {},
     "output_type": "execute_result"
    }
   ],
   "source": [
    "trf.fit(x_train)"
   ]
  },
  {
   "cell_type": "code",
   "execution_count": 94,
   "id": "84af1c6a",
   "metadata": {},
   "outputs": [
    {
     "data": {
      "text/html": [
       "<style>#sk-container-id-7 {color: black;background-color: white;}#sk-container-id-7 pre{padding: 0;}#sk-container-id-7 div.sk-toggleable {background-color: white;}#sk-container-id-7 label.sk-toggleable__label {cursor: pointer;display: block;width: 100%;margin-bottom: 0;padding: 0.3em;box-sizing: border-box;text-align: center;}#sk-container-id-7 label.sk-toggleable__label-arrow:before {content: \"▸\";float: left;margin-right: 0.25em;color: #696969;}#sk-container-id-7 label.sk-toggleable__label-arrow:hover:before {color: black;}#sk-container-id-7 div.sk-estimator:hover label.sk-toggleable__label-arrow:before {color: black;}#sk-container-id-7 div.sk-toggleable__content {max-height: 0;max-width: 0;overflow: hidden;text-align: left;background-color: #f0f8ff;}#sk-container-id-7 div.sk-toggleable__content pre {margin: 0.2em;color: black;border-radius: 0.25em;background-color: #f0f8ff;}#sk-container-id-7 input.sk-toggleable__control:checked~div.sk-toggleable__content {max-height: 200px;max-width: 100%;overflow: auto;}#sk-container-id-7 input.sk-toggleable__control:checked~label.sk-toggleable__label-arrow:before {content: \"▾\";}#sk-container-id-7 div.sk-estimator input.sk-toggleable__control:checked~label.sk-toggleable__label {background-color: #d4ebff;}#sk-container-id-7 div.sk-label input.sk-toggleable__control:checked~label.sk-toggleable__label {background-color: #d4ebff;}#sk-container-id-7 input.sk-hidden--visually {border: 0;clip: rect(1px 1px 1px 1px);clip: rect(1px, 1px, 1px, 1px);height: 1px;margin: -1px;overflow: hidden;padding: 0;position: absolute;width: 1px;}#sk-container-id-7 div.sk-estimator {font-family: monospace;background-color: #f0f8ff;border: 1px dotted black;border-radius: 0.25em;box-sizing: border-box;margin-bottom: 0.5em;}#sk-container-id-7 div.sk-estimator:hover {background-color: #d4ebff;}#sk-container-id-7 div.sk-parallel-item::after {content: \"\";width: 100%;border-bottom: 1px solid gray;flex-grow: 1;}#sk-container-id-7 div.sk-label:hover label.sk-toggleable__label {background-color: #d4ebff;}#sk-container-id-7 div.sk-serial::before {content: \"\";position: absolute;border-left: 1px solid gray;box-sizing: border-box;top: 0;bottom: 0;left: 50%;z-index: 0;}#sk-container-id-7 div.sk-serial {display: flex;flex-direction: column;align-items: center;background-color: white;padding-right: 0.2em;padding-left: 0.2em;position: relative;}#sk-container-id-7 div.sk-item {position: relative;z-index: 1;}#sk-container-id-7 div.sk-parallel {display: flex;align-items: stretch;justify-content: center;background-color: white;position: relative;}#sk-container-id-7 div.sk-item::before, #sk-container-id-7 div.sk-parallel-item::before {content: \"\";position: absolute;border-left: 1px solid gray;box-sizing: border-box;top: 0;bottom: 0;left: 50%;z-index: -1;}#sk-container-id-7 div.sk-parallel-item {display: flex;flex-direction: column;z-index: 1;position: relative;background-color: white;}#sk-container-id-7 div.sk-parallel-item:first-child::after {align-self: flex-end;width: 50%;}#sk-container-id-7 div.sk-parallel-item:last-child::after {align-self: flex-start;width: 50%;}#sk-container-id-7 div.sk-parallel-item:only-child::after {width: 0;}#sk-container-id-7 div.sk-dashed-wrapped {border: 1px dashed gray;margin: 0 0.4em 0.5em 0.4em;box-sizing: border-box;padding-bottom: 0.4em;background-color: white;}#sk-container-id-7 div.sk-label label {font-family: monospace;font-weight: bold;display: inline-block;line-height: 1.2em;}#sk-container-id-7 div.sk-label-container {text-align: center;}#sk-container-id-7 div.sk-container {/* jupyter's `normalize.less` sets `[hidden] { display: none; }` but bootstrap.min.css set `[hidden] { display: none !important; }` so we also need the `!important` here to be able to override the default hidden behavior on the sphinx rendered scikit-learn.org. See: https://github.com/scikit-learn/scikit-learn/issues/21755 */display: inline-block !important;position: relative;}#sk-container-id-7 div.sk-text-repr-fallback {display: none;}</style><div id=\"sk-container-id-7\" class=\"sk-top-container\"><div class=\"sk-text-repr-fallback\"><pre>ColumnTransformer(remainder=&#x27;passthrough&#x27;,\n",
       "                  transformers=[(&#x27;impute2&#x27;, SimpleImputer(), [&#x27;Age&#x27;])])</pre><b>In a Jupyter environment, please rerun this cell to show the HTML representation or trust the notebook. <br />On GitHub, the HTML representation is unable to render, please try loading this page with nbviewer.org.</b></div><div class=\"sk-container\" hidden><div class=\"sk-item sk-dashed-wrapped\"><div class=\"sk-label-container\"><div class=\"sk-label sk-toggleable\"><input class=\"sk-toggleable__control sk-hidden--visually\" id=\"sk-estimator-id-31\" type=\"checkbox\" ><label for=\"sk-estimator-id-31\" class=\"sk-toggleable__label sk-toggleable__label-arrow\">ColumnTransformer</label><div class=\"sk-toggleable__content\"><pre>ColumnTransformer(remainder=&#x27;passthrough&#x27;,\n",
       "                  transformers=[(&#x27;impute2&#x27;, SimpleImputer(), [&#x27;Age&#x27;])])</pre></div></div></div><div class=\"sk-parallel\"><div class=\"sk-parallel-item\"><div class=\"sk-item\"><div class=\"sk-label-container\"><div class=\"sk-label sk-toggleable\"><input class=\"sk-toggleable__control sk-hidden--visually\" id=\"sk-estimator-id-32\" type=\"checkbox\" ><label for=\"sk-estimator-id-32\" class=\"sk-toggleable__label sk-toggleable__label-arrow\">impute2</label><div class=\"sk-toggleable__content\"><pre>[&#x27;Age&#x27;]</pre></div></div></div><div class=\"sk-serial\"><div class=\"sk-item\"><div class=\"sk-estimator sk-toggleable\"><input class=\"sk-toggleable__control sk-hidden--visually\" id=\"sk-estimator-id-33\" type=\"checkbox\" ><label for=\"sk-estimator-id-33\" class=\"sk-toggleable__label sk-toggleable__label-arrow\">SimpleImputer</label><div class=\"sk-toggleable__content\"><pre>SimpleImputer()</pre></div></div></div></div></div></div><div class=\"sk-parallel-item\"><div class=\"sk-item\"><div class=\"sk-label-container\"><div class=\"sk-label sk-toggleable\"><input class=\"sk-toggleable__control sk-hidden--visually\" id=\"sk-estimator-id-34\" type=\"checkbox\" ><label for=\"sk-estimator-id-34\" class=\"sk-toggleable__label sk-toggleable__label-arrow\">remainder</label><div class=\"sk-toggleable__content\"><pre>[&#x27;Fare&#x27;, &#x27;Family&#x27;]</pre></div></div></div><div class=\"sk-serial\"><div class=\"sk-item\"><div class=\"sk-estimator sk-toggleable\"><input class=\"sk-toggleable__control sk-hidden--visually\" id=\"sk-estimator-id-35\" type=\"checkbox\" ><label for=\"sk-estimator-id-35\" class=\"sk-toggleable__label sk-toggleable__label-arrow\">passthrough</label><div class=\"sk-toggleable__content\"><pre>passthrough</pre></div></div></div></div></div></div></div></div></div></div>"
      ],
      "text/plain": [
       "ColumnTransformer(remainder='passthrough',\n",
       "                  transformers=[('impute2', SimpleImputer(), ['Age'])])"
      ]
     },
     "execution_count": 94,
     "metadata": {},
     "output_type": "execute_result"
    }
   ],
   "source": [
    "trf2.fit(x_train)"
   ]
  },
  {
   "cell_type": "code",
   "execution_count": 90,
   "id": "20ee46e2",
   "metadata": {},
   "outputs": [
    {
     "data": {
      "text/plain": [
       "array([28.75])"
      ]
     },
     "execution_count": 90,
     "metadata": {},
     "output_type": "execute_result"
    }
   ],
   "source": [
    "# median imputation\n",
    "trf.named_transformers_['impute1'].statistics_"
   ]
  },
  {
   "cell_type": "code",
   "execution_count": 95,
   "id": "58de8403",
   "metadata": {},
   "outputs": [
    {
     "data": {
      "text/plain": [
       "array([29.78590426])"
      ]
     },
     "execution_count": 95,
     "metadata": {},
     "output_type": "execute_result"
    }
   ],
   "source": [
    "\n",
    "#mean imputation\n",
    "trf2.named_transformers_['impute2'].statistics_"
   ]
  },
  {
   "cell_type": "code",
   "execution_count": 91,
   "id": "2024541c",
   "metadata": {},
   "outputs": [
    {
     "data": {
      "text/plain": [
       "array([[ 40.    ,  27.7208,   0.    ],\n",
       "       [  4.    ,  16.7   ,   2.    ],\n",
       "       [ 47.    ,   9.    ,   0.    ],\n",
       "       ...,\n",
       "       [ 71.    ,  49.5042,   0.    ],\n",
       "       [ 28.75  , 221.7792,   0.    ],\n",
       "       [ 28.75  ,  25.925 ,   0.    ]])"
      ]
     },
     "execution_count": 91,
     "metadata": {},
     "output_type": "execute_result"
    }
   ],
   "source": [
    " trf.transform(x_train)\n"
   ]
  },
  {
   "cell_type": "code",
   "execution_count": 92,
   "id": "385a9554",
   "metadata": {},
   "outputs": [
    {
     "data": {
      "text/plain": [
       "array([[ 42.    ,  26.2875,   0.    ],\n",
       "       [ 21.    ,   8.05  ,   0.    ],\n",
       "       [ 24.    ,  65.    ,   3.    ],\n",
       "       [ 28.    ,  56.4958,   0.    ],\n",
       "       [ 17.    ,   7.925 ,   6.    ],\n",
       "       [ 30.    ,   7.8958,   0.    ],\n",
       "       [ 80.    ,  30.    ,   0.    ],\n",
       "       [ 25.    ,   7.25  ,   0.    ],\n",
       "       [ 50.    , 133.65  ,   2.    ],\n",
       "       [ 25.    ,  26.    ,   1.    ],\n",
       "       [ 35.    ,  26.    ,   0.    ],\n",
       "       [ 35.    ,  90.    ,   1.    ],\n",
       "       [ 55.    ,  16.    ,   0.    ],\n",
       "       [ 28.75  ,  56.4958,   0.    ],\n",
       "       [ 28.75  ,  56.4958,   0.    ],\n",
       "       [ 19.    ,   7.8542,   1.    ],\n",
       "       [ 28.75  ,  15.2458,   2.    ],\n",
       "       [ 49.    ,   0.    ,   0.    ],\n",
       "       [ 18.    ,  14.4542,   1.    ],\n",
       "       [ 65.    ,   7.75  ,   0.    ],\n",
       "       [ 18.    , 108.9   ,   1.    ],\n",
       "       [ 28.75  ,  22.3583,   2.    ],\n",
       "       [ 16.    ,  18.    ,   2.    ],\n",
       "       [ 21.    ,   9.825 ,   1.    ],\n",
       "       [ 19.    ,   6.75  ,   0.    ],\n",
       "       [  1.    ,  11.1333,   2.    ],\n",
       "       [ 50.    ,  10.5   ,   0.    ],\n",
       "       [ 37.    ,  53.1   ,   1.    ],\n",
       "       [ 28.    ,   9.5   ,   0.    ],\n",
       "       [ 54.    ,  14.    ,   0.    ],\n",
       "       [ 20.    ,   7.925 ,   0.    ],\n",
       "       [ 36.    ,   0.    ,   0.    ],\n",
       "       [  6.    ,  31.275 ,   6.    ],\n",
       "       [ 28.75  ,  50.    ,   0.    ],\n",
       "       [ 40.    ,  31.    ,   0.    ],\n",
       "       [ 26.    ,  16.1   ,   1.    ],\n",
       "       [ 30.    ,  93.5   ,   0.    ],\n",
       "       [  1.    ,  46.9   ,   7.    ],\n",
       "       [ 28.75  ,   7.8958,   0.    ],\n",
       "       [ 35.    ,  10.5   ,   0.    ],\n",
       "       [ 38.    ,   7.05  ,   0.    ],\n",
       "       [ 44.    ,  16.1   ,   1.    ],\n",
       "       [ 22.    ,   7.75  ,   0.    ],\n",
       "       [ 18.    ,   6.4958,   1.    ],\n",
       "       [ 21.    ,   8.4333,   0.    ],\n",
       "       [ 28.75  , 227.525 ,   0.    ],\n",
       "       [ 21.    ,  77.9583,   0.    ],\n",
       "       [ 28.75  ,   8.6625,   0.    ],\n",
       "       [ 22.    ,   7.225 ,   0.    ],\n",
       "       [ 27.    ,  10.5   ,   0.    ],\n",
       "       [ 28.75  ,   8.05  ,   0.    ],\n",
       "       [ 51.    ,  26.55  ,   0.    ],\n",
       "       [ 28.    ,  33.    ,   1.    ],\n",
       "       [ 47.    ,  38.5   ,   0.    ],\n",
       "       [ 32.    ,  10.5   ,   0.    ],\n",
       "       [ 48.    ,  52.    ,   1.    ],\n",
       "       [ 10.    ,  24.15  ,   2.    ],\n",
       "       [ 21.    ,   8.6625,   0.    ],\n",
       "       [ 51.    ,   7.0542,   0.    ],\n",
       "       [ 32.    ,   7.925 ,   0.    ],\n",
       "       [ 42.    ,  13.    ,   0.    ],\n",
       "       [  2.    ,  26.    ,   2.    ],\n",
       "       [ 35.    ,   8.05  ,   0.    ],\n",
       "       [ 28.75  ,   7.25  ,   0.    ],\n",
       "       [  2.    ,  10.4625,   1.    ],\n",
       "       [ 33.    ,   9.5   ,   0.    ],\n",
       "       [ 48.    ,  25.9292,   0.    ],\n",
       "       [ 55.    ,  30.5   ,   0.    ],\n",
       "       [  1.    ,  39.6875,   5.    ],\n",
       "       [ 17.    ,   7.0542,   1.    ],\n",
       "       [ 24.    ,  15.85  ,   1.    ],\n",
       "       [ 74.    ,   7.775 ,   0.    ],\n",
       "       [ 28.75  ,  24.15  ,   1.    ],\n",
       "       [ 28.    ,   7.7958,   0.    ],\n",
       "       [ 26.    ,   7.8542,   0.    ],\n",
       "       [  1.    ,  39.    ,   3.    ],\n",
       "       [ 18.    ,   8.05  ,   0.    ],\n",
       "       [  3.    ,  26.    ,   2.    ],\n",
       "       [ 48.    ,  39.6   ,   1.    ],\n",
       "       [ 32.    ,  56.4958,   0.    ],\n",
       "       [ 19.    ,  91.0792,   1.    ],\n",
       "       [ 28.75  ,  42.4   ,   0.    ],\n",
       "       [ 70.    ,  10.5   ,   0.    ],\n",
       "       [ 34.    ,  26.    ,   1.    ],\n",
       "       [ 39.    , 110.8833,   2.    ],\n",
       "       [ 17.    ,  10.5   ,   0.    ],\n",
       "       [ 38.    ,   8.6625,   0.    ],\n",
       "       [ 28.75  ,   7.8958,   0.    ],\n",
       "       [ 30.    ,  21.    ,   3.    ],\n",
       "       [ 28.    ,  13.    ,   0.    ],\n",
       "       [ 28.75  ,   7.725 ,   0.    ],\n",
       "       [ 19.    ,   8.1583,   0.    ],\n",
       "       [ 29.    ,   7.75  ,   0.    ],\n",
       "       [ 28.75  ,   7.8958,   0.    ],\n",
       "       [ 44.    ,   7.925 ,   0.    ],\n",
       "       [ 22.    ,  41.5792,   3.    ],\n",
       "       [ 21.    ,  34.375 ,   4.    ],\n",
       "       [ 41.    ,  19.5   ,   1.    ],\n",
       "       [ 28.75  ,   7.225 ,   0.    ],\n",
       "       [ 25.    ,  55.4417,   1.    ],\n",
       "       [  0.92  , 151.55  ,   3.    ],\n",
       "       [ 44.    ,  26.    ,   1.    ],\n",
       "       [ 19.    ,  26.    ,   0.    ],\n",
       "       [ 30.    ,  56.9292,   0.    ],\n",
       "       [ 20.    ,   9.5   ,   0.    ],\n",
       "       [  5.    ,  12.475 ,   0.    ],\n",
       "       [  4.    ,  39.    ,   3.    ],\n",
       "       [ 28.75  ,  16.1   ,   1.    ],\n",
       "       [ 38.    ,   0.    ,   0.    ],\n",
       "       [ 28.    ,  22.525 ,   0.    ],\n",
       "       [ 28.75  ,  30.    ,   0.    ],\n",
       "       [ 29.    ,   7.775 ,   0.    ],\n",
       "       [ 49.    ,  89.1042,   1.    ],\n",
       "       [ 19.    ,  14.5   ,   0.    ],\n",
       "       [ 18.    , 262.375 ,   4.    ],\n",
       "       [ 31.    ,  26.25  ,   2.    ],\n",
       "       [ 27.    ,   7.7958,   0.    ],\n",
       "       [ 36.    , 120.    ,   3.    ],\n",
       "       [  8.    ,  36.75  ,   2.    ],\n",
       "       [  2.    ,  21.075 ,   4.    ],\n",
       "       [ 63.    ,  77.9583,   1.    ],\n",
       "       [ 31.    ,   7.75  ,   0.    ],\n",
       "       [ 28.75  ,   0.    ,   0.    ],\n",
       "       [ 25.    ,  13.    ,   0.    ],\n",
       "       [ 20.5   ,   7.25  ,   0.    ],\n",
       "       [ 28.75  ,   7.8958,   0.    ],\n",
       "       [ 64.    , 263.    ,   5.    ],\n",
       "       [ 19.    ,  26.    ,   1.    ],\n",
       "       [ 18.    ,   7.775 ,   0.    ],\n",
       "       [ 28.75  ,   0.    ,   0.    ],\n",
       "       [ 28.75  ,   7.8958,   0.    ],\n",
       "       [ 11.    ,  18.7875,   0.    ],\n",
       "       [ 15.    ,  14.4542,   1.    ],\n",
       "       [ 22.    ,  55.    ,   1.    ],\n",
       "       [ 50.    ,  13.    ,   0.    ],\n",
       "       [ 28.    ,  14.4   ,   2.    ],\n",
       "       [ 39.    ,  13.    ,   0.    ],\n",
       "       [ 28.75  ,   8.05  ,   0.    ],\n",
       "       [ 39.    ,   7.925 ,   0.    ],\n",
       "       [ 24.    ,  16.1   ,   1.    ],\n",
       "       [ 23.    ,   7.925 ,   0.    ],\n",
       "       [ 17.    ,  57.    ,   1.    ],\n",
       "       [ 44.    ,  26.    ,   1.    ],\n",
       "       [ 23.    ,  13.7917,   0.    ],\n",
       "       [ 28.75  ,  26.55  ,   0.    ],\n",
       "       [ 52.    ,  78.2667,   1.    ],\n",
       "       [ 24.5   ,   8.05  ,   0.    ],\n",
       "       [ 55.5   ,   8.05  ,   0.    ],\n",
       "       [ 18.    ,   7.7958,   0.    ],\n",
       "       [ 18.    ,  13.    ,   2.    ],\n",
       "       [ 45.    ,  83.475 ,   1.    ],\n",
       "       [ 31.    ,  18.    ,   1.    ],\n",
       "       [ 30.5   ,   8.05  ,   0.    ],\n",
       "       [ 42.    ,   8.4042,   1.    ],\n",
       "       [ 28.75  ,   7.75  ,   0.    ],\n",
       "       [ 36.    ,   7.4958,   0.    ],\n",
       "       [ 34.    ,  26.55  ,   0.    ],\n",
       "       [ 54.    ,  78.2667,   1.    ],\n",
       "       [ 15.    ,   8.0292,   0.    ],\n",
       "       [ 25.    ,   7.775 ,   1.    ],\n",
       "       [ 26.    ,  30.    ,   0.    ],\n",
       "       [ 28.75  ,   8.1125,   0.    ],\n",
       "       [ 19.    ,   8.05  ,   0.    ],\n",
       "       [ 29.    ,   7.8958,   0.    ],\n",
       "       [ 19.    ,  30.    ,   0.    ],\n",
       "       [ 33.    ,  90.    ,   1.    ],\n",
       "       [ 36.    ,  24.15  ,   2.    ],\n",
       "       [ 28.75  ,   7.775 ,   0.    ],\n",
       "       [ 35.    , 512.3292,   0.    ],\n",
       "       [ 22.    ,   7.25  ,   0.    ],\n",
       "       [ 28.75  ,  16.1   ,   1.    ],\n",
       "       [ 18.    ,   7.4958,   0.    ],\n",
       "       [ 28.    ,  26.    ,   1.    ],\n",
       "       [ 22.    ,   7.25  ,   0.    ],\n",
       "       [ 24.    ,   8.05  ,   0.    ],\n",
       "       [ 22.    ,   9.    ,   0.    ],\n",
       "       [ 28.75  ,  69.55  ,  10.    ],\n",
       "       [ 26.    ,   7.8958,   0.    ],\n",
       "       [ 29.    ,  10.4625,   2.    ]])"
      ]
     },
     "execution_count": 92,
     "metadata": {},
     "output_type": "execute_result"
    }
   ],
   "source": [
    "trf.transform(x_test)"
   ]
  },
  {
   "cell_type": "code",
   "execution_count": 96,
   "id": "673aea2f",
   "metadata": {},
   "outputs": [
    {
     "data": {
      "text/plain": [
       "array([[ 42.        ,  26.2875    ,   0.        ],\n",
       "       [ 21.        ,   8.05      ,   0.        ],\n",
       "       [ 24.        ,  65.        ,   3.        ],\n",
       "       [ 28.        ,  56.4958    ,   0.        ],\n",
       "       [ 17.        ,   7.925     ,   6.        ],\n",
       "       [ 30.        ,   7.8958    ,   0.        ],\n",
       "       [ 80.        ,  30.        ,   0.        ],\n",
       "       [ 25.        ,   7.25      ,   0.        ],\n",
       "       [ 50.        , 133.65      ,   2.        ],\n",
       "       [ 25.        ,  26.        ,   1.        ],\n",
       "       [ 35.        ,  26.        ,   0.        ],\n",
       "       [ 35.        ,  90.        ,   1.        ],\n",
       "       [ 55.        ,  16.        ,   0.        ],\n",
       "       [ 29.78590426,  56.4958    ,   0.        ],\n",
       "       [ 29.78590426,  56.4958    ,   0.        ],\n",
       "       [ 19.        ,   7.8542    ,   1.        ],\n",
       "       [ 29.78590426,  15.2458    ,   2.        ],\n",
       "       [ 49.        ,   0.        ,   0.        ],\n",
       "       [ 18.        ,  14.4542    ,   1.        ],\n",
       "       [ 65.        ,   7.75      ,   0.        ],\n",
       "       [ 18.        , 108.9       ,   1.        ],\n",
       "       [ 29.78590426,  22.3583    ,   2.        ],\n",
       "       [ 16.        ,  18.        ,   2.        ],\n",
       "       [ 21.        ,   9.825     ,   1.        ],\n",
       "       [ 19.        ,   6.75      ,   0.        ],\n",
       "       [  1.        ,  11.1333    ,   2.        ],\n",
       "       [ 50.        ,  10.5       ,   0.        ],\n",
       "       [ 37.        ,  53.1       ,   1.        ],\n",
       "       [ 28.        ,   9.5       ,   0.        ],\n",
       "       [ 54.        ,  14.        ,   0.        ],\n",
       "       [ 20.        ,   7.925     ,   0.        ],\n",
       "       [ 36.        ,   0.        ,   0.        ],\n",
       "       [  6.        ,  31.275     ,   6.        ],\n",
       "       [ 29.78590426,  50.        ,   0.        ],\n",
       "       [ 40.        ,  31.        ,   0.        ],\n",
       "       [ 26.        ,  16.1       ,   1.        ],\n",
       "       [ 30.        ,  93.5       ,   0.        ],\n",
       "       [  1.        ,  46.9       ,   7.        ],\n",
       "       [ 29.78590426,   7.8958    ,   0.        ],\n",
       "       [ 35.        ,  10.5       ,   0.        ],\n",
       "       [ 38.        ,   7.05      ,   0.        ],\n",
       "       [ 44.        ,  16.1       ,   1.        ],\n",
       "       [ 22.        ,   7.75      ,   0.        ],\n",
       "       [ 18.        ,   6.4958    ,   1.        ],\n",
       "       [ 21.        ,   8.4333    ,   0.        ],\n",
       "       [ 29.78590426, 227.525     ,   0.        ],\n",
       "       [ 21.        ,  77.9583    ,   0.        ],\n",
       "       [ 29.78590426,   8.6625    ,   0.        ],\n",
       "       [ 22.        ,   7.225     ,   0.        ],\n",
       "       [ 27.        ,  10.5       ,   0.        ],\n",
       "       [ 29.78590426,   8.05      ,   0.        ],\n",
       "       [ 51.        ,  26.55      ,   0.        ],\n",
       "       [ 28.        ,  33.        ,   1.        ],\n",
       "       [ 47.        ,  38.5       ,   0.        ],\n",
       "       [ 32.        ,  10.5       ,   0.        ],\n",
       "       [ 48.        ,  52.        ,   1.        ],\n",
       "       [ 10.        ,  24.15      ,   2.        ],\n",
       "       [ 21.        ,   8.6625    ,   0.        ],\n",
       "       [ 51.        ,   7.0542    ,   0.        ],\n",
       "       [ 32.        ,   7.925     ,   0.        ],\n",
       "       [ 42.        ,  13.        ,   0.        ],\n",
       "       [  2.        ,  26.        ,   2.        ],\n",
       "       [ 35.        ,   8.05      ,   0.        ],\n",
       "       [ 29.78590426,   7.25      ,   0.        ],\n",
       "       [  2.        ,  10.4625    ,   1.        ],\n",
       "       [ 33.        ,   9.5       ,   0.        ],\n",
       "       [ 48.        ,  25.9292    ,   0.        ],\n",
       "       [ 55.        ,  30.5       ,   0.        ],\n",
       "       [  1.        ,  39.6875    ,   5.        ],\n",
       "       [ 17.        ,   7.0542    ,   1.        ],\n",
       "       [ 24.        ,  15.85      ,   1.        ],\n",
       "       [ 74.        ,   7.775     ,   0.        ],\n",
       "       [ 29.78590426,  24.15      ,   1.        ],\n",
       "       [ 28.        ,   7.7958    ,   0.        ],\n",
       "       [ 26.        ,   7.8542    ,   0.        ],\n",
       "       [  1.        ,  39.        ,   3.        ],\n",
       "       [ 18.        ,   8.05      ,   0.        ],\n",
       "       [  3.        ,  26.        ,   2.        ],\n",
       "       [ 48.        ,  39.6       ,   1.        ],\n",
       "       [ 32.        ,  56.4958    ,   0.        ],\n",
       "       [ 19.        ,  91.0792    ,   1.        ],\n",
       "       [ 29.78590426,  42.4       ,   0.        ],\n",
       "       [ 70.        ,  10.5       ,   0.        ],\n",
       "       [ 34.        ,  26.        ,   1.        ],\n",
       "       [ 39.        , 110.8833    ,   2.        ],\n",
       "       [ 17.        ,  10.5       ,   0.        ],\n",
       "       [ 38.        ,   8.6625    ,   0.        ],\n",
       "       [ 29.78590426,   7.8958    ,   0.        ],\n",
       "       [ 30.        ,  21.        ,   3.        ],\n",
       "       [ 28.        ,  13.        ,   0.        ],\n",
       "       [ 29.78590426,   7.725     ,   0.        ],\n",
       "       [ 19.        ,   8.1583    ,   0.        ],\n",
       "       [ 29.        ,   7.75      ,   0.        ],\n",
       "       [ 29.78590426,   7.8958    ,   0.        ],\n",
       "       [ 44.        ,   7.925     ,   0.        ],\n",
       "       [ 22.        ,  41.5792    ,   3.        ],\n",
       "       [ 21.        ,  34.375     ,   4.        ],\n",
       "       [ 41.        ,  19.5       ,   1.        ],\n",
       "       [ 29.78590426,   7.225     ,   0.        ],\n",
       "       [ 25.        ,  55.4417    ,   1.        ],\n",
       "       [  0.92      , 151.55      ,   3.        ],\n",
       "       [ 44.        ,  26.        ,   1.        ],\n",
       "       [ 19.        ,  26.        ,   0.        ],\n",
       "       [ 30.        ,  56.9292    ,   0.        ],\n",
       "       [ 20.        ,   9.5       ,   0.        ],\n",
       "       [  5.        ,  12.475     ,   0.        ],\n",
       "       [  4.        ,  39.        ,   3.        ],\n",
       "       [ 29.78590426,  16.1       ,   1.        ],\n",
       "       [ 38.        ,   0.        ,   0.        ],\n",
       "       [ 28.        ,  22.525     ,   0.        ],\n",
       "       [ 29.78590426,  30.        ,   0.        ],\n",
       "       [ 29.        ,   7.775     ,   0.        ],\n",
       "       [ 49.        ,  89.1042    ,   1.        ],\n",
       "       [ 19.        ,  14.5       ,   0.        ],\n",
       "       [ 18.        , 262.375     ,   4.        ],\n",
       "       [ 31.        ,  26.25      ,   2.        ],\n",
       "       [ 27.        ,   7.7958    ,   0.        ],\n",
       "       [ 36.        , 120.        ,   3.        ],\n",
       "       [  8.        ,  36.75      ,   2.        ],\n",
       "       [  2.        ,  21.075     ,   4.        ],\n",
       "       [ 63.        ,  77.9583    ,   1.        ],\n",
       "       [ 31.        ,   7.75      ,   0.        ],\n",
       "       [ 29.78590426,   0.        ,   0.        ],\n",
       "       [ 25.        ,  13.        ,   0.        ],\n",
       "       [ 20.5       ,   7.25      ,   0.        ],\n",
       "       [ 29.78590426,   7.8958    ,   0.        ],\n",
       "       [ 64.        , 263.        ,   5.        ],\n",
       "       [ 19.        ,  26.        ,   1.        ],\n",
       "       [ 18.        ,   7.775     ,   0.        ],\n",
       "       [ 29.78590426,   0.        ,   0.        ],\n",
       "       [ 29.78590426,   7.8958    ,   0.        ],\n",
       "       [ 11.        ,  18.7875    ,   0.        ],\n",
       "       [ 15.        ,  14.4542    ,   1.        ],\n",
       "       [ 22.        ,  55.        ,   1.        ],\n",
       "       [ 50.        ,  13.        ,   0.        ],\n",
       "       [ 28.        ,  14.4       ,   2.        ],\n",
       "       [ 39.        ,  13.        ,   0.        ],\n",
       "       [ 29.78590426,   8.05      ,   0.        ],\n",
       "       [ 39.        ,   7.925     ,   0.        ],\n",
       "       [ 24.        ,  16.1       ,   1.        ],\n",
       "       [ 23.        ,   7.925     ,   0.        ],\n",
       "       [ 17.        ,  57.        ,   1.        ],\n",
       "       [ 44.        ,  26.        ,   1.        ],\n",
       "       [ 23.        ,  13.7917    ,   0.        ],\n",
       "       [ 29.78590426,  26.55      ,   0.        ],\n",
       "       [ 52.        ,  78.2667    ,   1.        ],\n",
       "       [ 24.5       ,   8.05      ,   0.        ],\n",
       "       [ 55.5       ,   8.05      ,   0.        ],\n",
       "       [ 18.        ,   7.7958    ,   0.        ],\n",
       "       [ 18.        ,  13.        ,   2.        ],\n",
       "       [ 45.        ,  83.475     ,   1.        ],\n",
       "       [ 31.        ,  18.        ,   1.        ],\n",
       "       [ 30.5       ,   8.05      ,   0.        ],\n",
       "       [ 42.        ,   8.4042    ,   1.        ],\n",
       "       [ 29.78590426,   7.75      ,   0.        ],\n",
       "       [ 36.        ,   7.4958    ,   0.        ],\n",
       "       [ 34.        ,  26.55      ,   0.        ],\n",
       "       [ 54.        ,  78.2667    ,   1.        ],\n",
       "       [ 15.        ,   8.0292    ,   0.        ],\n",
       "       [ 25.        ,   7.775     ,   1.        ],\n",
       "       [ 26.        ,  30.        ,   0.        ],\n",
       "       [ 29.78590426,   8.1125    ,   0.        ],\n",
       "       [ 19.        ,   8.05      ,   0.        ],\n",
       "       [ 29.        ,   7.8958    ,   0.        ],\n",
       "       [ 19.        ,  30.        ,   0.        ],\n",
       "       [ 33.        ,  90.        ,   1.        ],\n",
       "       [ 36.        ,  24.15      ,   2.        ],\n",
       "       [ 29.78590426,   7.775     ,   0.        ],\n",
       "       [ 35.        , 512.3292    ,   0.        ],\n",
       "       [ 22.        ,   7.25      ,   0.        ],\n",
       "       [ 29.78590426,  16.1       ,   1.        ],\n",
       "       [ 18.        ,   7.4958    ,   0.        ],\n",
       "       [ 28.        ,  26.        ,   1.        ],\n",
       "       [ 22.        ,   7.25      ,   0.        ],\n",
       "       [ 24.        ,   8.05      ,   0.        ],\n",
       "       [ 22.        ,   9.        ,   0.        ],\n",
       "       [ 29.78590426,  69.55      ,  10.        ],\n",
       "       [ 26.        ,   7.8958    ,   0.        ],\n",
       "       [ 29.        ,  10.4625    ,   2.        ]])"
      ]
     },
     "execution_count": 96,
     "metadata": {},
     "output_type": "execute_result"
    }
   ],
   "source": [
    "trf2.transform(x_test)"
   ]
  },
  {
   "cell_type": "code",
   "execution_count": 97,
   "id": "7a63d6ba",
   "metadata": {},
   "outputs": [
    {
     "data": {
      "text/plain": [
       "array([[ 40.        ,  27.7208    ,   0.        ],\n",
       "       [  4.        ,  16.7       ,   2.        ],\n",
       "       [ 47.        ,   9.        ,   0.        ],\n",
       "       ...,\n",
       "       [ 71.        ,  49.5042    ,   0.        ],\n",
       "       [ 29.78590426, 221.7792    ,   0.        ],\n",
       "       [ 29.78590426,  25.925     ,   0.        ]])"
      ]
     },
     "execution_count": 97,
     "metadata": {},
     "output_type": "execute_result"
    }
   ],
   "source": [
    "trf2.transform(x_train)"
   ]
  },
  {
   "cell_type": "code",
   "execution_count": null,
   "id": "543b5fd6",
   "metadata": {},
   "outputs": [],
   "source": []
  }
 ],
 "metadata": {
  "kernelspec": {
   "display_name": "Python 3 (ipykernel)",
   "language": "python",
   "name": "python3"
  },
  "language_info": {
   "codemirror_mode": {
    "name": "ipython",
    "version": 3
   },
   "file_extension": ".py",
   "mimetype": "text/x-python",
   "name": "python",
   "nbconvert_exporter": "python",
   "pygments_lexer": "ipython3",
   "version": "3.9.7"
  }
 },
 "nbformat": 4,
 "nbformat_minor": 5
}
